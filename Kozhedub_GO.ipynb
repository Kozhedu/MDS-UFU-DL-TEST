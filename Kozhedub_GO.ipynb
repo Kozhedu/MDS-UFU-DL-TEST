{
  "nbformat": 4,
  "nbformat_minor": 0,
  "metadata": {
    "colab": {
      "provenance": [],
      "include_colab_link": true
    },
    "kernelspec": {
      "name": "python3",
      "display_name": "Python 3"
    },
    "language_info": {
      "name": "python"
    }
  },
  "cells": [
    {
      "cell_type": "markdown",
      "metadata": {
        "id": "view-in-github",
        "colab_type": "text"
      },
      "source": [
        "<a href=\"https://colab.research.google.com/github/Kozhedu/MDS-UFU-DL-TEST/blob/main/Kozhedub_GO.ipynb\" target=\"_parent\"><img src=\"https://colab.research.google.com/assets/colab-badge.svg\" alt=\"Open In Colab\"/></a>"
      ]
    },
    {
      "cell_type": "markdown",
      "source": [
        "#1. Загрузка данных"
      ],
      "metadata": {
        "id": "FaNEF0oxfB_f"
      }
    },
    {
      "cell_type": "code",
      "execution_count": null,
      "metadata": {
        "colab": {
          "base_uri": "https://localhost:8080/"
        },
        "id": "C5i3FG_3bUHW",
        "outputId": "21686138-3d75-4756-e99b-952825d0c3bb"
      },
      "outputs": [
        {
          "output_type": "stream",
          "name": "stdout",
          "text": [
            "Looking in indexes: https://pypi.org/simple, https://us-python.pkg.dev/colab-wheels/public/simple/\n",
            "Requirement already satisfied: keract in /usr/local/lib/python3.10/dist-packages (4.5.1)\n"
          ]
        }
      ],
      "source": [
        "!pip install keract"
      ]
    },
    {
      "cell_type": "code",
      "source": [
        "from google.colab import files"
      ],
      "metadata": {
        "id": "FIHxW7Oue3rl"
      },
      "execution_count": null,
      "outputs": []
    },
    {
      "cell_type": "code",
      "source": [
        "import matplotlib.pyplot as plt"
      ],
      "metadata": {
        "id": "fsEQRIy6e7Ob"
      },
      "execution_count": null,
      "outputs": []
    },
    {
      "cell_type": "code",
      "source": [
        "import pandas as pd\n",
        "import numpy as np\n",
        "from sklearn.model_selection import train_test_split"
      ],
      "metadata": {
        "id": "UUULr1W8gQCr"
      },
      "execution_count": null,
      "outputs": []
    },
    {
      "cell_type": "code",
      "source": [
        "import tensorflow as tf\n",
        "from tensorflow import keras"
      ],
      "metadata": {
        "id": "GNiJBRF_gA0x"
      },
      "execution_count": null,
      "outputs": []
    },
    {
      "cell_type": "code",
      "source": [
        "from tensorflow.keras.models import Sequential, load_model\n",
        "from tensorflow.keras.layers import Dense, Dropout, Flatten, Conv2D, MaxPooling2D"
      ],
      "metadata": {
        "id": "w_olWEnDotT2"
      },
      "execution_count": null,
      "outputs": []
    },
    {
      "cell_type": "code",
      "source": [
        "uploaded = files.upload() #просто запускаем и выбираем файл  API токена в проводнике\n",
        "\n",
        "#↓ строка которая активирует наш API токен\n",
        "!mkdir -p ~/.kaggle/ && mv kaggle.json ~/.kaggle/ && chmod 600 ~/.kaggle/kaggle.json"
      ],
      "metadata": {
        "colab": {
          "base_uri": "https://localhost:8080/",
          "height": 73
        },
        "id": "Ld7dlgrpe30U",
        "outputId": "42a0a0bb-3e1b-44ec-b75d-8fac56b04f61"
      },
      "execution_count": null,
      "outputs": [
        {
          "output_type": "display_data",
          "data": {
            "text/plain": [
              "<IPython.core.display.HTML object>"
            ],
            "text/html": [
              "\n",
              "     <input type=\"file\" id=\"files-f5edc985-f6b8-4f00-9f56-63a2403729cf\" name=\"files[]\" multiple disabled\n",
              "        style=\"border:none\" />\n",
              "     <output id=\"result-f5edc985-f6b8-4f00-9f56-63a2403729cf\">\n",
              "      Upload widget is only available when the cell has been executed in the\n",
              "      current browser session. Please rerun this cell to enable.\n",
              "      </output>\n",
              "      <script>// Copyright 2017 Google LLC\n",
              "//\n",
              "// Licensed under the Apache License, Version 2.0 (the \"License\");\n",
              "// you may not use this file except in compliance with the License.\n",
              "// You may obtain a copy of the License at\n",
              "//\n",
              "//      http://www.apache.org/licenses/LICENSE-2.0\n",
              "//\n",
              "// Unless required by applicable law or agreed to in writing, software\n",
              "// distributed under the License is distributed on an \"AS IS\" BASIS,\n",
              "// WITHOUT WARRANTIES OR CONDITIONS OF ANY KIND, either express or implied.\n",
              "// See the License for the specific language governing permissions and\n",
              "// limitations under the License.\n",
              "\n",
              "/**\n",
              " * @fileoverview Helpers for google.colab Python module.\n",
              " */\n",
              "(function(scope) {\n",
              "function span(text, styleAttributes = {}) {\n",
              "  const element = document.createElement('span');\n",
              "  element.textContent = text;\n",
              "  for (const key of Object.keys(styleAttributes)) {\n",
              "    element.style[key] = styleAttributes[key];\n",
              "  }\n",
              "  return element;\n",
              "}\n",
              "\n",
              "// Max number of bytes which will be uploaded at a time.\n",
              "const MAX_PAYLOAD_SIZE = 100 * 1024;\n",
              "\n",
              "function _uploadFiles(inputId, outputId) {\n",
              "  const steps = uploadFilesStep(inputId, outputId);\n",
              "  const outputElement = document.getElementById(outputId);\n",
              "  // Cache steps on the outputElement to make it available for the next call\n",
              "  // to uploadFilesContinue from Python.\n",
              "  outputElement.steps = steps;\n",
              "\n",
              "  return _uploadFilesContinue(outputId);\n",
              "}\n",
              "\n",
              "// This is roughly an async generator (not supported in the browser yet),\n",
              "// where there are multiple asynchronous steps and the Python side is going\n",
              "// to poll for completion of each step.\n",
              "// This uses a Promise to block the python side on completion of each step,\n",
              "// then passes the result of the previous step as the input to the next step.\n",
              "function _uploadFilesContinue(outputId) {\n",
              "  const outputElement = document.getElementById(outputId);\n",
              "  const steps = outputElement.steps;\n",
              "\n",
              "  const next = steps.next(outputElement.lastPromiseValue);\n",
              "  return Promise.resolve(next.value.promise).then((value) => {\n",
              "    // Cache the last promise value to make it available to the next\n",
              "    // step of the generator.\n",
              "    outputElement.lastPromiseValue = value;\n",
              "    return next.value.response;\n",
              "  });\n",
              "}\n",
              "\n",
              "/**\n",
              " * Generator function which is called between each async step of the upload\n",
              " * process.\n",
              " * @param {string} inputId Element ID of the input file picker element.\n",
              " * @param {string} outputId Element ID of the output display.\n",
              " * @return {!Iterable<!Object>} Iterable of next steps.\n",
              " */\n",
              "function* uploadFilesStep(inputId, outputId) {\n",
              "  const inputElement = document.getElementById(inputId);\n",
              "  inputElement.disabled = false;\n",
              "\n",
              "  const outputElement = document.getElementById(outputId);\n",
              "  outputElement.innerHTML = '';\n",
              "\n",
              "  const pickedPromise = new Promise((resolve) => {\n",
              "    inputElement.addEventListener('change', (e) => {\n",
              "      resolve(e.target.files);\n",
              "    });\n",
              "  });\n",
              "\n",
              "  const cancel = document.createElement('button');\n",
              "  inputElement.parentElement.appendChild(cancel);\n",
              "  cancel.textContent = 'Cancel upload';\n",
              "  const cancelPromise = new Promise((resolve) => {\n",
              "    cancel.onclick = () => {\n",
              "      resolve(null);\n",
              "    };\n",
              "  });\n",
              "\n",
              "  // Wait for the user to pick the files.\n",
              "  const files = yield {\n",
              "    promise: Promise.race([pickedPromise, cancelPromise]),\n",
              "    response: {\n",
              "      action: 'starting',\n",
              "    }\n",
              "  };\n",
              "\n",
              "  cancel.remove();\n",
              "\n",
              "  // Disable the input element since further picks are not allowed.\n",
              "  inputElement.disabled = true;\n",
              "\n",
              "  if (!files) {\n",
              "    return {\n",
              "      response: {\n",
              "        action: 'complete',\n",
              "      }\n",
              "    };\n",
              "  }\n",
              "\n",
              "  for (const file of files) {\n",
              "    const li = document.createElement('li');\n",
              "    li.append(span(file.name, {fontWeight: 'bold'}));\n",
              "    li.append(span(\n",
              "        `(${file.type || 'n/a'}) - ${file.size} bytes, ` +\n",
              "        `last modified: ${\n",
              "            file.lastModifiedDate ? file.lastModifiedDate.toLocaleDateString() :\n",
              "                                    'n/a'} - `));\n",
              "    const percent = span('0% done');\n",
              "    li.appendChild(percent);\n",
              "\n",
              "    outputElement.appendChild(li);\n",
              "\n",
              "    const fileDataPromise = new Promise((resolve) => {\n",
              "      const reader = new FileReader();\n",
              "      reader.onload = (e) => {\n",
              "        resolve(e.target.result);\n",
              "      };\n",
              "      reader.readAsArrayBuffer(file);\n",
              "    });\n",
              "    // Wait for the data to be ready.\n",
              "    let fileData = yield {\n",
              "      promise: fileDataPromise,\n",
              "      response: {\n",
              "        action: 'continue',\n",
              "      }\n",
              "    };\n",
              "\n",
              "    // Use a chunked sending to avoid message size limits. See b/62115660.\n",
              "    let position = 0;\n",
              "    do {\n",
              "      const length = Math.min(fileData.byteLength - position, MAX_PAYLOAD_SIZE);\n",
              "      const chunk = new Uint8Array(fileData, position, length);\n",
              "      position += length;\n",
              "\n",
              "      const base64 = btoa(String.fromCharCode.apply(null, chunk));\n",
              "      yield {\n",
              "        response: {\n",
              "          action: 'append',\n",
              "          file: file.name,\n",
              "          data: base64,\n",
              "        },\n",
              "      };\n",
              "\n",
              "      let percentDone = fileData.byteLength === 0 ?\n",
              "          100 :\n",
              "          Math.round((position / fileData.byteLength) * 100);\n",
              "      percent.textContent = `${percentDone}% done`;\n",
              "\n",
              "    } while (position < fileData.byteLength);\n",
              "  }\n",
              "\n",
              "  // All done.\n",
              "  yield {\n",
              "    response: {\n",
              "      action: 'complete',\n",
              "    }\n",
              "  };\n",
              "}\n",
              "\n",
              "scope.google = scope.google || {};\n",
              "scope.google.colab = scope.google.colab || {};\n",
              "scope.google.colab._files = {\n",
              "  _uploadFiles,\n",
              "  _uploadFilesContinue,\n",
              "};\n",
              "})(self);\n",
              "</script> "
            ]
          },
          "metadata": {}
        },
        {
          "output_type": "stream",
          "name": "stdout",
          "text": [
            "Saving kaggle.json to kaggle.json\n"
          ]
        }
      ]
    },
    {
      "cell_type": "code",
      "source": [
        "#↓ добавился восклицательный знак, потому что это колаб\n",
        "!kaggle competitions download -c mds-ufu-dl-test"
      ],
      "metadata": {
        "colab": {
          "base_uri": "https://localhost:8080/"
        },
        "id": "M7jxKy6Tf213",
        "outputId": "8861cfd6-bc9b-4641-d946-05f7c8ebba38"
      },
      "execution_count": null,
      "outputs": [
        {
          "output_type": "stream",
          "name": "stdout",
          "text": [
            "mds-ufu-dl-test.zip: Skipping, found more recently modified local copy (use --force to force download)\n"
          ]
        }
      ]
    },
    {
      "cell_type": "code",
      "source": [
        "#↓ \"распакуй\" + имя архива\n",
        "!unzip mds-ufu-dl-test.zip"
      ],
      "metadata": {
        "colab": {
          "base_uri": "https://localhost:8080/"
        },
        "id": "aS7sEkKyf_Gw",
        "outputId": "ee85774c-d82f-4860-c111-d1076ae30a1d"
      },
      "execution_count": null,
      "outputs": [
        {
          "output_type": "stream",
          "name": "stdout",
          "text": [
            "Archive:  mds-ufu-dl-test.zip\n",
            "replace fmnist_test.csv? [y]es, [n]o, [A]ll, [N]one, [r]ename: "
          ]
        }
      ]
    },
    {
      "cell_type": "code",
      "source": [
        "train=pd.read_csv(\"fmnist_train.csv\")\n",
        "test=pd.read_csv(\"fmnist_test.csv\")"
      ],
      "metadata": {
        "id": "fonwHtvLgLBC"
      },
      "execution_count": null,
      "outputs": []
    },
    {
      "cell_type": "code",
      "source": [
        "train.isnull().sum().sum()"
      ],
      "metadata": {
        "colab": {
          "base_uri": "https://localhost:8080/"
        },
        "id": "DcH0RSF_oGE5",
        "outputId": "dab171ac-f48b-406a-e472-197db98150e4"
      },
      "execution_count": null,
      "outputs": [
        {
          "output_type": "execute_result",
          "data": {
            "text/plain": [
              "424"
            ]
          },
          "metadata": {},
          "execution_count": 50
        }
      ]
    },
    {
      "cell_type": "code",
      "source": [
        "train = train.fillna(0)"
      ],
      "metadata": {
        "id": "PbrKK2RtoXa0"
      },
      "execution_count": null,
      "outputs": []
    },
    {
      "cell_type": "code",
      "source": [
        "train.isnull().sum().sum()"
      ],
      "metadata": {
        "colab": {
          "base_uri": "https://localhost:8080/"
        },
        "id": "t_HY4CxholEX",
        "outputId": "5985b933-ba4b-4877-88ac-e67debb97a5e"
      },
      "execution_count": null,
      "outputs": [
        {
          "output_type": "execute_result",
          "data": {
            "text/plain": [
              "0"
            ]
          },
          "metadata": {},
          "execution_count": 52
        }
      ]
    },
    {
      "cell_type": "code",
      "source": [
        "test.isnull().sum().sum()"
      ],
      "metadata": {
        "id": "LFSpiancVNKx",
        "outputId": "49411900-d905-446a-a2ee-38668e8e6d6b",
        "colab": {
          "base_uri": "https://localhost:8080/"
        }
      },
      "execution_count": null,
      "outputs": [
        {
          "output_type": "execute_result",
          "data": {
            "text/plain": [
              "0"
            ]
          },
          "metadata": {},
          "execution_count": 53
        }
      ]
    },
    {
      "cell_type": "code",
      "source": [
        "train.head(2)"
      ],
      "metadata": {
        "colab": {
          "base_uri": "https://localhost:8080/",
          "height": 205
        },
        "id": "l8GHKcLjgWTE",
        "outputId": "4b2f37a6-ee1b-4eb6-8204-f995a087fc78"
      },
      "execution_count": null,
      "outputs": [
        {
          "output_type": "execute_result",
          "data": {
            "text/plain": [
              "   label  pixel1  pixel2  pixel3  pixel4  pixel5  pixel6  pixel7  pixel8  \\\n",
              "0      2       0       0       0       0       0       0       0       0   \n",
              "1      9       0       0       0       0       0       0       0       0   \n",
              "\n",
              "   pixel9  ...  pixel776  pixel777  pixel778  pixel779  pixel780  pixel781  \\\n",
              "0       0  ...       0.0       0.0       0.0       0.0       0.0       0.0   \n",
              "1       0  ...       0.0       0.0       0.0       0.0       0.0       0.0   \n",
              "\n",
              "   pixel782  pixel783  pixel784  Id  \n",
              "0       0.0       0.0       0.0   0  \n",
              "1       0.0       0.0       0.0   1  \n",
              "\n",
              "[2 rows x 786 columns]"
            ],
            "text/html": [
              "\n",
              "  <div id=\"df-d7b1f8fd-dad5-4d09-a4ae-8bec242417a4\">\n",
              "    <div class=\"colab-df-container\">\n",
              "      <div>\n",
              "<style scoped>\n",
              "    .dataframe tbody tr th:only-of-type {\n",
              "        vertical-align: middle;\n",
              "    }\n",
              "\n",
              "    .dataframe tbody tr th {\n",
              "        vertical-align: top;\n",
              "    }\n",
              "\n",
              "    .dataframe thead th {\n",
              "        text-align: right;\n",
              "    }\n",
              "</style>\n",
              "<table border=\"1\" class=\"dataframe\">\n",
              "  <thead>\n",
              "    <tr style=\"text-align: right;\">\n",
              "      <th></th>\n",
              "      <th>label</th>\n",
              "      <th>pixel1</th>\n",
              "      <th>pixel2</th>\n",
              "      <th>pixel3</th>\n",
              "      <th>pixel4</th>\n",
              "      <th>pixel5</th>\n",
              "      <th>pixel6</th>\n",
              "      <th>pixel7</th>\n",
              "      <th>pixel8</th>\n",
              "      <th>pixel9</th>\n",
              "      <th>...</th>\n",
              "      <th>pixel776</th>\n",
              "      <th>pixel777</th>\n",
              "      <th>pixel778</th>\n",
              "      <th>pixel779</th>\n",
              "      <th>pixel780</th>\n",
              "      <th>pixel781</th>\n",
              "      <th>pixel782</th>\n",
              "      <th>pixel783</th>\n",
              "      <th>pixel784</th>\n",
              "      <th>Id</th>\n",
              "    </tr>\n",
              "  </thead>\n",
              "  <tbody>\n",
              "    <tr>\n",
              "      <th>0</th>\n",
              "      <td>2</td>\n",
              "      <td>0</td>\n",
              "      <td>0</td>\n",
              "      <td>0</td>\n",
              "      <td>0</td>\n",
              "      <td>0</td>\n",
              "      <td>0</td>\n",
              "      <td>0</td>\n",
              "      <td>0</td>\n",
              "      <td>0</td>\n",
              "      <td>...</td>\n",
              "      <td>0.0</td>\n",
              "      <td>0.0</td>\n",
              "      <td>0.0</td>\n",
              "      <td>0.0</td>\n",
              "      <td>0.0</td>\n",
              "      <td>0.0</td>\n",
              "      <td>0.0</td>\n",
              "      <td>0.0</td>\n",
              "      <td>0.0</td>\n",
              "      <td>0</td>\n",
              "    </tr>\n",
              "    <tr>\n",
              "      <th>1</th>\n",
              "      <td>9</td>\n",
              "      <td>0</td>\n",
              "      <td>0</td>\n",
              "      <td>0</td>\n",
              "      <td>0</td>\n",
              "      <td>0</td>\n",
              "      <td>0</td>\n",
              "      <td>0</td>\n",
              "      <td>0</td>\n",
              "      <td>0</td>\n",
              "      <td>...</td>\n",
              "      <td>0.0</td>\n",
              "      <td>0.0</td>\n",
              "      <td>0.0</td>\n",
              "      <td>0.0</td>\n",
              "      <td>0.0</td>\n",
              "      <td>0.0</td>\n",
              "      <td>0.0</td>\n",
              "      <td>0.0</td>\n",
              "      <td>0.0</td>\n",
              "      <td>1</td>\n",
              "    </tr>\n",
              "  </tbody>\n",
              "</table>\n",
              "<p>2 rows × 786 columns</p>\n",
              "</div>\n",
              "      <button class=\"colab-df-convert\" onclick=\"convertToInteractive('df-d7b1f8fd-dad5-4d09-a4ae-8bec242417a4')\"\n",
              "              title=\"Convert this dataframe to an interactive table.\"\n",
              "              style=\"display:none;\">\n",
              "        \n",
              "  <svg xmlns=\"http://www.w3.org/2000/svg\" height=\"24px\"viewBox=\"0 0 24 24\"\n",
              "       width=\"24px\">\n",
              "    <path d=\"M0 0h24v24H0V0z\" fill=\"none\"/>\n",
              "    <path d=\"M18.56 5.44l.94 2.06.94-2.06 2.06-.94-2.06-.94-.94-2.06-.94 2.06-2.06.94zm-11 1L8.5 8.5l.94-2.06 2.06-.94-2.06-.94L8.5 2.5l-.94 2.06-2.06.94zm10 10l.94 2.06.94-2.06 2.06-.94-2.06-.94-.94-2.06-.94 2.06-2.06.94z\"/><path d=\"M17.41 7.96l-1.37-1.37c-.4-.4-.92-.59-1.43-.59-.52 0-1.04.2-1.43.59L10.3 9.45l-7.72 7.72c-.78.78-.78 2.05 0 2.83L4 21.41c.39.39.9.59 1.41.59.51 0 1.02-.2 1.41-.59l7.78-7.78 2.81-2.81c.8-.78.8-2.07 0-2.86zM5.41 20L4 18.59l7.72-7.72 1.47 1.35L5.41 20z\"/>\n",
              "  </svg>\n",
              "      </button>\n",
              "      \n",
              "  <style>\n",
              "    .colab-df-container {\n",
              "      display:flex;\n",
              "      flex-wrap:wrap;\n",
              "      gap: 12px;\n",
              "    }\n",
              "\n",
              "    .colab-df-convert {\n",
              "      background-color: #E8F0FE;\n",
              "      border: none;\n",
              "      border-radius: 50%;\n",
              "      cursor: pointer;\n",
              "      display: none;\n",
              "      fill: #1967D2;\n",
              "      height: 32px;\n",
              "      padding: 0 0 0 0;\n",
              "      width: 32px;\n",
              "    }\n",
              "\n",
              "    .colab-df-convert:hover {\n",
              "      background-color: #E2EBFA;\n",
              "      box-shadow: 0px 1px 2px rgba(60, 64, 67, 0.3), 0px 1px 3px 1px rgba(60, 64, 67, 0.15);\n",
              "      fill: #174EA6;\n",
              "    }\n",
              "\n",
              "    [theme=dark] .colab-df-convert {\n",
              "      background-color: #3B4455;\n",
              "      fill: #D2E3FC;\n",
              "    }\n",
              "\n",
              "    [theme=dark] .colab-df-convert:hover {\n",
              "      background-color: #434B5C;\n",
              "      box-shadow: 0px 1px 3px 1px rgba(0, 0, 0, 0.15);\n",
              "      filter: drop-shadow(0px 1px 2px rgba(0, 0, 0, 0.3));\n",
              "      fill: #FFFFFF;\n",
              "    }\n",
              "  </style>\n",
              "\n",
              "      <script>\n",
              "        const buttonEl =\n",
              "          document.querySelector('#df-d7b1f8fd-dad5-4d09-a4ae-8bec242417a4 button.colab-df-convert');\n",
              "        buttonEl.style.display =\n",
              "          google.colab.kernel.accessAllowed ? 'block' : 'none';\n",
              "\n",
              "        async function convertToInteractive(key) {\n",
              "          const element = document.querySelector('#df-d7b1f8fd-dad5-4d09-a4ae-8bec242417a4');\n",
              "          const dataTable =\n",
              "            await google.colab.kernel.invokeFunction('convertToInteractive',\n",
              "                                                     [key], {});\n",
              "          if (!dataTable) return;\n",
              "\n",
              "          const docLinkHtml = 'Like what you see? Visit the ' +\n",
              "            '<a target=\"_blank\" href=https://colab.research.google.com/notebooks/data_table.ipynb>data table notebook</a>'\n",
              "            + ' to learn more about interactive tables.';\n",
              "          element.innerHTML = '';\n",
              "          dataTable['output_type'] = 'display_data';\n",
              "          await google.colab.output.renderOutput(dataTable, element);\n",
              "          const docLink = document.createElement('div');\n",
              "          docLink.innerHTML = docLinkHtml;\n",
              "          element.appendChild(docLink);\n",
              "        }\n",
              "      </script>\n",
              "    </div>\n",
              "  </div>\n",
              "  "
            ]
          },
          "metadata": {},
          "execution_count": 54
        }
      ]
    },
    {
      "cell_type": "code",
      "source": [
        "test.head(2)"
      ],
      "metadata": {
        "colab": {
          "base_uri": "https://localhost:8080/",
          "height": 205
        },
        "id": "PU74KEingcNl",
        "outputId": "59f279c2-7317-48e0-d1e3-4125d73b2825"
      },
      "execution_count": null,
      "outputs": [
        {
          "output_type": "execute_result",
          "data": {
            "text/plain": [
              "   pixel1  pixel2  pixel3  pixel4  pixel5  pixel6  pixel7  pixel8  pixel9  \\\n",
              "0       0       0       0       0       0       0       0       9       8   \n",
              "1       0       0       0       0       0       0       0       0       0   \n",
              "\n",
              "   pixel10  ...  pixel776  pixel777  pixel778  pixel779  pixel780  pixel781  \\\n",
              "0        0  ...        87        56         0         0         0         0   \n",
              "1        0  ...         0         0         0         0         0         0   \n",
              "\n",
              "   pixel782  pixel783  pixel784  Id  \n",
              "0         0         0         0   0  \n",
              "1         0         0         0   1  \n",
              "\n",
              "[2 rows x 785 columns]"
            ],
            "text/html": [
              "\n",
              "  <div id=\"df-e40264e0-6665-4718-8bdb-943e34a0e2a5\">\n",
              "    <div class=\"colab-df-container\">\n",
              "      <div>\n",
              "<style scoped>\n",
              "    .dataframe tbody tr th:only-of-type {\n",
              "        vertical-align: middle;\n",
              "    }\n",
              "\n",
              "    .dataframe tbody tr th {\n",
              "        vertical-align: top;\n",
              "    }\n",
              "\n",
              "    .dataframe thead th {\n",
              "        text-align: right;\n",
              "    }\n",
              "</style>\n",
              "<table border=\"1\" class=\"dataframe\">\n",
              "  <thead>\n",
              "    <tr style=\"text-align: right;\">\n",
              "      <th></th>\n",
              "      <th>pixel1</th>\n",
              "      <th>pixel2</th>\n",
              "      <th>pixel3</th>\n",
              "      <th>pixel4</th>\n",
              "      <th>pixel5</th>\n",
              "      <th>pixel6</th>\n",
              "      <th>pixel7</th>\n",
              "      <th>pixel8</th>\n",
              "      <th>pixel9</th>\n",
              "      <th>pixel10</th>\n",
              "      <th>...</th>\n",
              "      <th>pixel776</th>\n",
              "      <th>pixel777</th>\n",
              "      <th>pixel778</th>\n",
              "      <th>pixel779</th>\n",
              "      <th>pixel780</th>\n",
              "      <th>pixel781</th>\n",
              "      <th>pixel782</th>\n",
              "      <th>pixel783</th>\n",
              "      <th>pixel784</th>\n",
              "      <th>Id</th>\n",
              "    </tr>\n",
              "  </thead>\n",
              "  <tbody>\n",
              "    <tr>\n",
              "      <th>0</th>\n",
              "      <td>0</td>\n",
              "      <td>0</td>\n",
              "      <td>0</td>\n",
              "      <td>0</td>\n",
              "      <td>0</td>\n",
              "      <td>0</td>\n",
              "      <td>0</td>\n",
              "      <td>9</td>\n",
              "      <td>8</td>\n",
              "      <td>0</td>\n",
              "      <td>...</td>\n",
              "      <td>87</td>\n",
              "      <td>56</td>\n",
              "      <td>0</td>\n",
              "      <td>0</td>\n",
              "      <td>0</td>\n",
              "      <td>0</td>\n",
              "      <td>0</td>\n",
              "      <td>0</td>\n",
              "      <td>0</td>\n",
              "      <td>0</td>\n",
              "    </tr>\n",
              "    <tr>\n",
              "      <th>1</th>\n",
              "      <td>0</td>\n",
              "      <td>0</td>\n",
              "      <td>0</td>\n",
              "      <td>0</td>\n",
              "      <td>0</td>\n",
              "      <td>0</td>\n",
              "      <td>0</td>\n",
              "      <td>0</td>\n",
              "      <td>0</td>\n",
              "      <td>0</td>\n",
              "      <td>...</td>\n",
              "      <td>0</td>\n",
              "      <td>0</td>\n",
              "      <td>0</td>\n",
              "      <td>0</td>\n",
              "      <td>0</td>\n",
              "      <td>0</td>\n",
              "      <td>0</td>\n",
              "      <td>0</td>\n",
              "      <td>0</td>\n",
              "      <td>1</td>\n",
              "    </tr>\n",
              "  </tbody>\n",
              "</table>\n",
              "<p>2 rows × 785 columns</p>\n",
              "</div>\n",
              "      <button class=\"colab-df-convert\" onclick=\"convertToInteractive('df-e40264e0-6665-4718-8bdb-943e34a0e2a5')\"\n",
              "              title=\"Convert this dataframe to an interactive table.\"\n",
              "              style=\"display:none;\">\n",
              "        \n",
              "  <svg xmlns=\"http://www.w3.org/2000/svg\" height=\"24px\"viewBox=\"0 0 24 24\"\n",
              "       width=\"24px\">\n",
              "    <path d=\"M0 0h24v24H0V0z\" fill=\"none\"/>\n",
              "    <path d=\"M18.56 5.44l.94 2.06.94-2.06 2.06-.94-2.06-.94-.94-2.06-.94 2.06-2.06.94zm-11 1L8.5 8.5l.94-2.06 2.06-.94-2.06-.94L8.5 2.5l-.94 2.06-2.06.94zm10 10l.94 2.06.94-2.06 2.06-.94-2.06-.94-.94-2.06-.94 2.06-2.06.94z\"/><path d=\"M17.41 7.96l-1.37-1.37c-.4-.4-.92-.59-1.43-.59-.52 0-1.04.2-1.43.59L10.3 9.45l-7.72 7.72c-.78.78-.78 2.05 0 2.83L4 21.41c.39.39.9.59 1.41.59.51 0 1.02-.2 1.41-.59l7.78-7.78 2.81-2.81c.8-.78.8-2.07 0-2.86zM5.41 20L4 18.59l7.72-7.72 1.47 1.35L5.41 20z\"/>\n",
              "  </svg>\n",
              "      </button>\n",
              "      \n",
              "  <style>\n",
              "    .colab-df-container {\n",
              "      display:flex;\n",
              "      flex-wrap:wrap;\n",
              "      gap: 12px;\n",
              "    }\n",
              "\n",
              "    .colab-df-convert {\n",
              "      background-color: #E8F0FE;\n",
              "      border: none;\n",
              "      border-radius: 50%;\n",
              "      cursor: pointer;\n",
              "      display: none;\n",
              "      fill: #1967D2;\n",
              "      height: 32px;\n",
              "      padding: 0 0 0 0;\n",
              "      width: 32px;\n",
              "    }\n",
              "\n",
              "    .colab-df-convert:hover {\n",
              "      background-color: #E2EBFA;\n",
              "      box-shadow: 0px 1px 2px rgba(60, 64, 67, 0.3), 0px 1px 3px 1px rgba(60, 64, 67, 0.15);\n",
              "      fill: #174EA6;\n",
              "    }\n",
              "\n",
              "    [theme=dark] .colab-df-convert {\n",
              "      background-color: #3B4455;\n",
              "      fill: #D2E3FC;\n",
              "    }\n",
              "\n",
              "    [theme=dark] .colab-df-convert:hover {\n",
              "      background-color: #434B5C;\n",
              "      box-shadow: 0px 1px 3px 1px rgba(0, 0, 0, 0.15);\n",
              "      filter: drop-shadow(0px 1px 2px rgba(0, 0, 0, 0.3));\n",
              "      fill: #FFFFFF;\n",
              "    }\n",
              "  </style>\n",
              "\n",
              "      <script>\n",
              "        const buttonEl =\n",
              "          document.querySelector('#df-e40264e0-6665-4718-8bdb-943e34a0e2a5 button.colab-df-convert');\n",
              "        buttonEl.style.display =\n",
              "          google.colab.kernel.accessAllowed ? 'block' : 'none';\n",
              "\n",
              "        async function convertToInteractive(key) {\n",
              "          const element = document.querySelector('#df-e40264e0-6665-4718-8bdb-943e34a0e2a5');\n",
              "          const dataTable =\n",
              "            await google.colab.kernel.invokeFunction('convertToInteractive',\n",
              "                                                     [key], {});\n",
              "          if (!dataTable) return;\n",
              "\n",
              "          const docLinkHtml = 'Like what you see? Visit the ' +\n",
              "            '<a target=\"_blank\" href=https://colab.research.google.com/notebooks/data_table.ipynb>data table notebook</a>'\n",
              "            + ' to learn more about interactive tables.';\n",
              "          element.innerHTML = '';\n",
              "          dataTable['output_type'] = 'display_data';\n",
              "          await google.colab.output.renderOutput(dataTable, element);\n",
              "          const docLink = document.createElement('div');\n",
              "          docLink.innerHTML = docLinkHtml;\n",
              "          element.appendChild(docLink);\n",
              "        }\n",
              "      </script>\n",
              "    </div>\n",
              "  </div>\n",
              "  "
            ]
          },
          "metadata": {},
          "execution_count": 55
        }
      ]
    },
    {
      "cell_type": "code",
      "source": [
        "y=train['label'].to_numpy()"
      ],
      "metadata": {
        "id": "TjubhmMpgf_F"
      },
      "execution_count": null,
      "outputs": []
    },
    {
      "cell_type": "code",
      "source": [
        "X = train.iloc[:, 1:785].to_numpy()"
      ],
      "metadata": {
        "id": "V--c_Oq5grXI"
      },
      "execution_count": null,
      "outputs": []
    },
    {
      "cell_type": "code",
      "source": [
        "train_x, test_x, train_y, test_y = train_test_split(X, y, test_size=0.2, random_state=15, shuffle=True, stratify=y)"
      ],
      "metadata": {
        "id": "KhdBVQAZg-2K"
      },
      "execution_count": null,
      "outputs": []
    },
    {
      "cell_type": "code",
      "source": [
        "val = test.iloc[:, 0:784].to_numpy()"
      ],
      "metadata": {
        "id": "zuoh4tJtF8-S"
      },
      "execution_count": null,
      "outputs": []
    },
    {
      "cell_type": "code",
      "source": [
        "# Различные константы\n",
        "IMG_WIDTH, IMG_HEIGHT = 28, 28\n",
        "BATCH_SIZE = 250\n",
        "EPOCHS = 50\n",
        "NUM_CLASSES = 10\n",
        "VALIDATION_SPLIT = 0.2\n",
        "VERBOSITY = 1"
      ],
      "metadata": {
        "id": "6Q2qOh9KGZO-"
      },
      "execution_count": null,
      "outputs": []
    },
    {
      "cell_type": "code",
      "source": [
        "# Подготавливаем данные.\n",
        "train_x = train_x.reshape(train_x.shape[0], IMG_WIDTH, IMG_HEIGHT, 1)\n",
        "test_x = test_x.reshape(test_x.shape[0], IMG_WIDTH, IMG_HEIGHT, 1)\n",
        "val_x =val.reshape(val.shape[0],IMG_WIDTH, IMG_HEIGHT, 1)"
      ],
      "metadata": {
        "id": "lI8IQT9HGdHu"
      },
      "execution_count": null,
      "outputs": []
    },
    {
      "cell_type": "code",
      "source": [
        "train_x.shape"
      ],
      "metadata": {
        "colab": {
          "base_uri": "https://localhost:8080/"
        },
        "id": "MSOPILHIhdI4",
        "outputId": "6589bf35-ab0d-4bd3-c7da-42e051aba4ad"
      },
      "execution_count": null,
      "outputs": [
        {
          "output_type": "execute_result",
          "data": {
            "text/plain": [
              "(13632, 28, 28, 1)"
            ]
          },
          "metadata": {},
          "execution_count": 62
        }
      ]
    },
    {
      "cell_type": "code",
      "source": [
        "test_x.shape"
      ],
      "metadata": {
        "colab": {
          "base_uri": "https://localhost:8080/"
        },
        "id": "egi0Ge_ghk4x",
        "outputId": "61d0df4c-6be1-4ce4-cf5c-bb93bc0a4620"
      },
      "execution_count": null,
      "outputs": [
        {
          "output_type": "execute_result",
          "data": {
            "text/plain": [
              "(3408, 28, 28, 1)"
            ]
          },
          "metadata": {},
          "execution_count": 63
        }
      ]
    },
    {
      "cell_type": "code",
      "source": [
        "val_x.shape"
      ],
      "metadata": {
        "colab": {
          "base_uri": "https://localhost:8080/"
        },
        "id": "9DEdd6o8hooj",
        "outputId": "61e959bb-44d5-4bf7-c903-3fc3626d06b6"
      },
      "execution_count": null,
      "outputs": [
        {
          "output_type": "execute_result",
          "data": {
            "text/plain": [
              "(10000, 28, 28, 1)"
            ]
          },
          "metadata": {},
          "execution_count": 64
        }
      ]
    },
    {
      "cell_type": "code",
      "source": [
        "input_shape = (IMG_WIDTH, IMG_HEIGHT, 1)"
      ],
      "metadata": {
        "id": "SIAr9J92Jlh4"
      },
      "execution_count": null,
      "outputs": []
    },
    {
      "cell_type": "code",
      "source": [
        "input_shape"
      ],
      "metadata": {
        "colab": {
          "base_uri": "https://localhost:8080/"
        },
        "id": "QfdIvPd6JmaR",
        "outputId": "e8839d38-bf12-4231-9c3c-4d00ce179e4b"
      },
      "execution_count": null,
      "outputs": [
        {
          "output_type": "execute_result",
          "data": {
            "text/plain": [
              "(28, 28, 1)"
            ]
          },
          "metadata": {},
          "execution_count": 66
        }
      ]
    },
    {
      "cell_type": "code",
      "source": [
        "# Нормализуем данные (0-255 -> 0-1.0).\n",
        "train_x = train_x.astype('float32')\n",
        "test_x = test_x.astype('float32')\n",
        "val_x = val_x.astype('float32')\n",
        "train_x = train_x / 255\n",
        "test_x = test_x / 255\n",
        "val_x = val_x / 255"
      ],
      "metadata": {
        "id": "G-KyioeBH8vo"
      },
      "execution_count": null,
      "outputs": []
    },
    {
      "cell_type": "code",
      "source": [
        "target_train = tf.keras.utils.to_categorical(train_y, NUM_CLASSES)"
      ],
      "metadata": {
        "id": "6LcdYic2eK4b"
      },
      "execution_count": null,
      "outputs": []
    },
    {
      "cell_type": "code",
      "source": [
        "target_test = tf.keras.utils.to_categorical(test_y, NUM_CLASSES)"
      ],
      "metadata": {
        "id": "2YwDqMFsexqu"
      },
      "execution_count": null,
      "outputs": []
    },
    {
      "cell_type": "code",
      "source": [
        "plt.imshow(val_x[30])\n",
        "print(val_x[0].shape)"
      ],
      "metadata": {
        "colab": {
          "base_uri": "https://localhost:8080/",
          "height": 447
        },
        "id": "ON5kx--ier6f",
        "outputId": "ed1da6af-b4fc-4b4a-c9ac-47f5d751ec84"
      },
      "execution_count": null,
      "outputs": [
        {
          "output_type": "stream",
          "name": "stdout",
          "text": [
            "(28, 28, 1)\n"
          ]
        },
        {
          "output_type": "display_data",
          "data": {
            "text/plain": [
              "<Figure size 640x480 with 1 Axes>"
            ],
            "image/png": "[encoded data removed]"
          },
          "metadata": {}
        }
      ]
    },
    {
      "cell_type": "code",
      "source": [
        "plt.imshow(train_x[2000].reshape(28, 28))"
      ],
      "metadata": {
        "colab": {
          "base_uri": "https://localhost:8080/",
          "height": 447
        },
        "id": "acT9QryJ5wj5",
        "outputId": "9ed6abb8-380f-41e7-9906-4e46830808d8"
      },
      "execution_count": null,
      "outputs": [
        {
          "output_type": "execute_result",
          "data": {
            "text/plain": [
              "<matplotlib.image.AxesImage at 0x7faf11bf1b10>"
            ]
          },
          "metadata": {},
          "execution_count": 32
        },
        {
          "output_type": "display_data",
          "data": {
            "text/plain": [
              "<Figure size 640x480 with 1 Axes>"
            ],
            "image/png": "[encoded data removed]"
          },
          "metadata": {}
        }
      ]
    },
    {
      "cell_type": "code",
      "source": [
        "class_names = ['T-shirt/top', 'Trouser', 'Pullover', 'Dress', 'Coat',\n",
        "               'Sandal', 'Shirt', 'Sneaker', 'Bag', 'Ankle boot']"
      ],
      "metadata": {
        "id": "bWsf4eaWiOZ4"
      },
      "execution_count": null,
      "outputs": []
    },
    {
      "cell_type": "markdown",
      "source": [
        "#2. Обучение"
      ],
      "metadata": {
        "id": "FAHZbhi_fK7w"
      }
    },
    {
      "cell_type": "markdown",
      "source": [
        "https://www.tensorflow.org/tutorials/keras/classification?hl=ru"
      ],
      "metadata": {
        "id": "0G-FDCJsf1B-"
      }
    },
    {
      "cell_type": "code",
      "source": [
        "#создаём модель.\n",
        "model = Sequential()\n",
        "model.add(Conv2D(6, kernel_size=(5, 5), strides=(1,1), activation='relu', padding='same', input_shape=input_shape))\n",
        "model.add(MaxPooling2D(pool_size=(2, 2)))\n",
        "model.add(Conv2D(10, kernel_size=(5, 5), strides=(1,1), activation='relu', padding='same'))\n",
        "model.add(Flatten())\n",
        "model.add(Dense(256, activation='relu'))\n",
        "model.add(Dense(NUM_CLASSES, activation='softmax'))"
      ],
      "metadata": {
        "id": "1K9FJpz-fVgb"
      },
      "execution_count": null,
      "outputs": []
    },
    {
      "cell_type": "code",
      "source": [
        "# И обучаем её.\n",
        "model.compile(\n",
        "    loss=tf.keras.losses.categorical_crossentropy,\n",
        "    optimizer=tf.keras.optimizers.Adam(),\n",
        "    metrics=['accuracy']\n",
        ")"
      ],
      "metadata": {
        "id": "B6cA3-MyfVY8"
      },
      "execution_count": null,
      "outputs": []
    },
    {
      "cell_type": "code",
      "source": [
        "model_history = model.fit(\n",
        "    train_x,\n",
        "    target_train,\n",
        "    batch_size=BATCH_SIZE,\n",
        "    epochs=EPOCHS,\n",
        "    verbose=VERBOSITY,\n",
        "    validation_split=VALIDATION_SPLIT\n",
        ")"
      ],
      "metadata": {
        "id": "makzEjbzfvRu",
        "outputId": "10660c03-bb27-470d-9d7d-6019881eb057",
        "colab": {
          "base_uri": "https://localhost:8080/"
        }
      },
      "execution_count": null,
      "outputs": [
        {
          "output_type": "stream",
          "name": "stdout",
          "text": [
            "Epoch 1/50\n",
            "44/44 [==============================] - 16s 344ms/step - loss: 0.9516 - accuracy: 0.6824 - val_loss: 0.6039 - val_accuracy: 0.7730\n",
            "Epoch 2/50\n",
            "44/44 [==============================] - 9s 215ms/step - loss: 0.5480 - accuracy: 0.8009 - val_loss: 0.5096 - val_accuracy: 0.8152\n",
            "Epoch 3/50\n",
            "44/44 [==============================] - 9s 196ms/step - loss: 0.4850 - accuracy: 0.8259 - val_loss: 0.4714 - val_accuracy: 0.8265\n",
            "Epoch 4/50\n",
            "44/44 [==============================] - 9s 197ms/step - loss: 0.4364 - accuracy: 0.8459 - val_loss: 0.4148 - val_accuracy: 0.8596\n",
            "Epoch 5/50\n",
            "44/44 [==============================] - 9s 217ms/step - loss: 0.4021 - accuracy: 0.8565 - val_loss: 0.4018 - val_accuracy: 0.8614\n",
            "Epoch 6/50\n",
            "44/44 [==============================] - 9s 201ms/step - loss: 0.3845 - accuracy: 0.8635 - val_loss: 0.3833 - val_accuracy: 0.8665\n",
            "Epoch 7/50\n",
            "44/44 [==============================] - 9s 192ms/step - loss: 0.3638 - accuracy: 0.8691 - val_loss: 0.3643 - val_accuracy: 0.8739\n",
            "Epoch 8/50\n",
            "44/44 [==============================] - 10s 240ms/step - loss: 0.3488 - accuracy: 0.8734 - val_loss: 0.3708 - val_accuracy: 0.8695\n",
            "Epoch 9/50\n",
            "44/44 [==============================] - 10s 228ms/step - loss: 0.3391 - accuracy: 0.8789 - val_loss: 0.3606 - val_accuracy: 0.8717\n",
            "Epoch 10/50\n",
            "44/44 [==============================] - 8s 182ms/step - loss: 0.3202 - accuracy: 0.8842 - val_loss: 0.3574 - val_accuracy: 0.8739\n",
            "Epoch 11/50\n",
            "44/44 [==============================] - 9s 215ms/step - loss: 0.3168 - accuracy: 0.8862 - val_loss: 0.3477 - val_accuracy: 0.8761\n",
            "Epoch 12/50\n",
            "44/44 [==============================] - 11s 250ms/step - loss: 0.2914 - accuracy: 0.8958 - val_loss: 0.3286 - val_accuracy: 0.8889\n",
            "Epoch 13/50\n",
            "44/44 [==============================] - 9s 196ms/step - loss: 0.2855 - accuracy: 0.8989 - val_loss: 0.3293 - val_accuracy: 0.8915\n",
            "Epoch 14/50\n",
            "44/44 [==============================] - 9s 196ms/step - loss: 0.2757 - accuracy: 0.9015 - val_loss: 0.3357 - val_accuracy: 0.8882\n",
            "Epoch 15/50\n",
            "44/44 [==============================] - 9s 215ms/step - loss: 0.2739 - accuracy: 0.9005 - val_loss: 0.3212 - val_accuracy: 0.8878\n",
            "Epoch 16/50\n",
            "44/44 [==============================] - 9s 202ms/step - loss: 0.2573 - accuracy: 0.9070 - val_loss: 0.3184 - val_accuracy: 0.8907\n",
            "Epoch 17/50\n",
            "44/44 [==============================] - 9s 193ms/step - loss: 0.2316 - accuracy: 0.9195 - val_loss: 0.3178 - val_accuracy: 0.8915\n",
            "Epoch 18/50\n",
            "44/44 [==============================] - 9s 215ms/step - loss: 0.2390 - accuracy: 0.9135 - val_loss: 0.3199 - val_accuracy: 0.8907\n",
            "Epoch 19/50\n",
            "44/44 [==============================] - 9s 207ms/step - loss: 0.2270 - accuracy: 0.9202 - val_loss: 0.3253 - val_accuracy: 0.8878\n",
            "Epoch 20/50\n",
            "44/44 [==============================] - 8s 185ms/step - loss: 0.2127 - accuracy: 0.9262 - val_loss: 0.3223 - val_accuracy: 0.8922\n",
            "Epoch 21/50\n",
            "44/44 [==============================] - 9s 216ms/step - loss: 0.2071 - accuracy: 0.9255 - val_loss: 0.3279 - val_accuracy: 0.8915\n",
            "Epoch 22/50\n",
            "44/44 [==============================] - 9s 214ms/step - loss: 0.1995 - accuracy: 0.9294 - val_loss: 0.3092 - val_accuracy: 0.8970\n",
            "Epoch 23/50\n",
            "44/44 [==============================] - 8s 181ms/step - loss: 0.1802 - accuracy: 0.9387 - val_loss: 0.3112 - val_accuracy: 0.8944\n",
            "Epoch 24/50\n",
            "44/44 [==============================] - 9s 215ms/step - loss: 0.1879 - accuracy: 0.9322 - val_loss: 0.3111 - val_accuracy: 0.8922\n",
            "Epoch 25/50\n",
            "44/44 [==============================] - 10s 220ms/step - loss: 0.1729 - accuracy: 0.9411 - val_loss: 0.3060 - val_accuracy: 0.8999\n",
            "Epoch 26/50\n",
            "44/44 [==============================] - 9s 196ms/step - loss: 0.1674 - accuracy: 0.9428 - val_loss: 0.3130 - val_accuracy: 0.9003\n",
            "Epoch 27/50\n",
            "44/44 [==============================] - 9s 215ms/step - loss: 0.1528 - accuracy: 0.9472 - val_loss: 0.3291 - val_accuracy: 0.8918\n",
            "Epoch 28/50\n",
            "44/44 [==============================] - 9s 215ms/step - loss: 0.1592 - accuracy: 0.9459 - val_loss: 0.3202 - val_accuracy: 0.8882\n",
            "Epoch 29/50\n",
            "44/44 [==============================] - 8s 181ms/step - loss: 0.1429 - accuracy: 0.9513 - val_loss: 0.3227 - val_accuracy: 0.8966\n",
            "Epoch 30/50\n",
            "44/44 [==============================] - 9s 215ms/step - loss: 0.1379 - accuracy: 0.9528 - val_loss: 0.3274 - val_accuracy: 0.8948\n",
            "Epoch 31/50\n",
            "44/44 [==============================] - 9s 216ms/step - loss: 0.1217 - accuracy: 0.9597 - val_loss: 0.3148 - val_accuracy: 0.9036\n",
            "Epoch 32/50\n",
            "44/44 [==============================] - 8s 183ms/step - loss: 0.1175 - accuracy: 0.9603 - val_loss: 0.3288 - val_accuracy: 0.8933\n",
            "Epoch 33/50\n",
            "44/44 [==============================] - 9s 216ms/step - loss: 0.1177 - accuracy: 0.9599 - val_loss: 0.3515 - val_accuracy: 0.8863\n",
            "Epoch 34/50\n",
            "44/44 [==============================] - 9s 215ms/step - loss: 0.1191 - accuracy: 0.9581 - val_loss: 0.3371 - val_accuracy: 0.8948\n",
            "Epoch 35/50\n",
            "44/44 [==============================] - 8s 182ms/step - loss: 0.1062 - accuracy: 0.9654 - val_loss: 0.3292 - val_accuracy: 0.9003\n",
            "Epoch 36/50\n",
            "44/44 [==============================] - 9s 212ms/step - loss: 0.0968 - accuracy: 0.9686 - val_loss: 0.3561 - val_accuracy: 0.8959\n",
            "Epoch 37/50\n",
            "44/44 [==============================] - 9s 215ms/step - loss: 0.0999 - accuracy: 0.9663 - val_loss: 0.3254 - val_accuracy: 0.9014\n",
            "Epoch 38/50\n",
            "44/44 [==============================] - 9s 196ms/step - loss: 0.0873 - accuracy: 0.9718 - val_loss: 0.3673 - val_accuracy: 0.8929\n",
            "Epoch 39/50\n",
            "44/44 [==============================] - 9s 198ms/step - loss: 0.0794 - accuracy: 0.9752 - val_loss: 0.3560 - val_accuracy: 0.8992\n",
            "Epoch 40/50\n",
            "44/44 [==============================] - 9s 215ms/step - loss: 0.0723 - accuracy: 0.9777 - val_loss: 0.3747 - val_accuracy: 0.8955\n",
            "Epoch 41/50\n",
            "44/44 [==============================] - 9s 200ms/step - loss: 0.0735 - accuracy: 0.9780 - val_loss: 0.3687 - val_accuracy: 0.8860\n",
            "Epoch 42/50\n",
            "44/44 [==============================] - 9s 192ms/step - loss: 0.0678 - accuracy: 0.9782 - val_loss: 0.3785 - val_accuracy: 0.8951\n",
            "Epoch 43/50\n",
            "44/44 [==============================] - 9s 215ms/step - loss: 0.0609 - accuracy: 0.9818 - val_loss: 0.4066 - val_accuracy: 0.8911\n",
            "Epoch 44/50\n",
            "44/44 [==============================] - 9s 209ms/step - loss: 0.0616 - accuracy: 0.9824 - val_loss: 0.4877 - val_accuracy: 0.8713\n",
            "Epoch 45/50\n",
            "44/44 [==============================] - 8s 184ms/step - loss: 0.0886 - accuracy: 0.9685 - val_loss: 0.3956 - val_accuracy: 0.8900\n",
            "Epoch 46/50\n",
            "44/44 [==============================] - 9s 214ms/step - loss: 0.0532 - accuracy: 0.9844 - val_loss: 0.4112 - val_accuracy: 0.8911\n",
            "Epoch 47/50\n",
            "44/44 [==============================] - 9s 216ms/step - loss: 0.0494 - accuracy: 0.9851 - val_loss: 0.4285 - val_accuracy: 0.8922\n",
            "Epoch 48/50\n",
            "44/44 [==============================] - 8s 183ms/step - loss: 0.0431 - accuracy: 0.9879 - val_loss: 0.4125 - val_accuracy: 0.8984\n",
            "Epoch 49/50\n",
            "44/44 [==============================] - 9s 216ms/step - loss: 0.0407 - accuracy: 0.9904 - val_loss: 0.4029 - val_accuracy: 0.8992\n",
            "Epoch 50/50\n",
            "44/44 [==============================] - 10s 227ms/step - loss: 0.0374 - accuracy: 0.9897 - val_loss: 0.4362 - val_accuracy: 0.8885\n"
          ]
        }
      ]
    },
    {
      "cell_type": "code",
      "source": [
        "test_loss, test_acc = model.evaluate(test_x,  target_test, verbose=2)\n",
        "\n",
        "print('\\nTest accuracy:', test_acc)"
      ],
      "metadata": {
        "id": "UYN74oZ1fVOw",
        "outputId": "8d14ccd1-2f8e-4b09-efbe-aea2a0533f8a",
        "colab": {
          "base_uri": "https://localhost:8080/"
        }
      },
      "execution_count": null,
      "outputs": [
        {
          "output_type": "stream",
          "name": "stdout",
          "text": [
            "107/107 - 1s - loss: 0.4218 - accuracy: 0.8906 - 1s/epoch - 10ms/step\n",
            "\n",
            "Test accuracy: 0.8905516266822815\n"
          ]
        }
      ]
    },
    {
      "cell_type": "code",
      "source": [
        "prediction = model.predict(val_x)\n",
        "prediction.shape"
      ],
      "metadata": {
        "id": "tSW-Dz-bhOVN",
        "outputId": "56919dd8-a8c9-4c5b-af5a-f28284f8321a",
        "colab": {
          "base_uri": "https://localhost:8080/"
        }
      },
      "execution_count": null,
      "outputs": [
        {
          "output_type": "stream",
          "name": "stdout",
          "text": [
            "313/313 [==============================] - 4s 13ms/step\n"
          ]
        },
        {
          "output_type": "execute_result",
          "data": {
            "text/plain": [
              "(10000, 10)"
            ]
          },
          "metadata": {},
          "execution_count": 76
        }
      ]
    },
    {
      "cell_type": "code",
      "source": [
        "category=[]\n",
        "for i in prediction:\n",
        "    category.append(np.argmax(i))"
      ],
      "metadata": {
        "id": "U5QaQGoghOCR"
      },
      "execution_count": null,
      "outputs": []
    },
    {
      "cell_type": "code",
      "source": [
        "plt.figure(figsize=(10,10))\n",
        "for i in range(25):\n",
        "    plt.subplot(5,5,i+1)\n",
        "    plt.xticks([])\n",
        "    plt.yticks([])\n",
        "    plt.grid(False)\n",
        "    plt.imshow(val_x[i], cmap=plt.cm.binary)\n",
        "    plt.xlabel(class_names[category[i]])\n",
        "plt.show()"
      ],
      "metadata": {
        "id": "EZtFEzfJhNtd",
        "outputId": "c9ef123f-33cd-4285-da1f-886b22353357",
        "colab": {
          "base_uri": "https://localhost:8080/",
          "height": 826
        }
      },
      "execution_count": null,
      "outputs": [
        {
          "output_type": "display_data",
          "data": {
            "text/plain": [
              "<Figure size 1000x1000 with 25 Axes>"
            ],
            "image/png": "[encoded data removed]"
          },
          "metadata": {}
        }
      ]
    },
    {
      "cell_type": "code",
      "source": [
        "submission = {\n",
        "    'Id': list(test.Id.values),\n",
        "    'Category': category\n",
        "}\n",
        "solution = pd.DataFrame(submission)\n",
        "solution.to_csv('submission_my.csv',index=False)"
      ],
      "metadata": {
        "id": "WFAnTzgTiikP"
      },
      "execution_count": null,
      "outputs": []
    },
    {
      "cell_type": "code",
      "source": [
        "!kaggle competitions submit -c mds-ufu-dl-test -f submission_my.csv -m \"Message\" "
      ],
      "metadata": {
        "id": "hj-LjDaOiihb",
        "colab": {
          "base_uri": "https://localhost:8080/"
        },
        "outputId": "8696c427-9b92-442b-fd58-8278831aac3e"
      },
      "execution_count": null,
      "outputs": [
        {
          "output_type": "stream",
          "name": "stdout",
          "text": [
            "100% 67.3k/67.3k [00:00<00:00, 329kB/s]\n",
            "Successfully submitted to [MDS-UFU-DL-TEST] Построение классификатора"
          ]
        }
      ]
    },
    {
      "cell_type": "code",
      "source": [],
      "metadata": {
        "id": "dU61IE_7iiez"
      },
      "execution_count": null,
      "outputs": []
    },
    {
      "cell_type": "code",
      "source": [],
      "metadata": {
        "id": "gxOJqUwMiicT"
      },
      "execution_count": null,
      "outputs": []
    },
    {
      "cell_type": "code",
      "source": [],
      "metadata": {
        "id": "gAf5QPiBiiZq"
      },
      "execution_count": null,
      "outputs": []
    },
    {
      "cell_type": "code",
      "source": [],
      "metadata": {
        "id": "MmuBzRmHiiPY"
      },
      "execution_count": null,
      "outputs": []
    },
    {
      "cell_type": "code",
      "source": [],
      "metadata": {
        "id": "RztNgIsjhNYr"
      },
      "execution_count": null,
      "outputs": []
    }
  ]
}